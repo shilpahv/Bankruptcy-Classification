{
  "nbformat": 4,
  "nbformat_minor": 0,
  "metadata": {
    "accelerator": "GPU",
    "colab": {
      "name": "Finance_Imputation_Modeling_v2.ipynb",
      "provenance": [],
      "collapsed_sections": [],
      "toc_visible": true
    },
    "kernelspec": {
      "display_name": "Python 3",
      "language": "python",
      "name": "python3"
    },
    "language_info": {
      "codemirror_mode": {
        "name": "ipython",
        "version": 3
      },
      "file_extension": ".py",
      "mimetype": "text/x-python",
      "name": "python",
      "nbconvert_exporter": "python",
      "pygments_lexer": "ipython3",
      "version": "3.8.5"
    }
  },
  "cells": [
    {
      "cell_type": "markdown",
      "metadata": {
        "id": "xFnfjUqYg9CK"
      },
      "source": [
        "## Data prep."
      ]
    },
    {
      "cell_type": "code",
      "metadata": {
        "id": "k-ZFgZOusrHL"
      },
      "source": [
        "# import packages\n",
        "import pandas as pd\n",
        "import numpy as np\n",
        "from numpy import where\n",
        "from sklearn.impute import KNNImputer\n",
        "from collections import Counter\n",
        "from imblearn.over_sampling import SMOTE\n",
        "from imblearn.pipeline import Pipeline\n",
        "import matplotlib.pyplot as plt\n",
        "from sklearn.preprocessing import StandardScaler, MinMaxScaler\n",
        "from warnings import simplefilter\n",
        "from imblearn.under_sampling import RandomUnderSampler\n",
        "simplefilter(action='ignore', category=FutureWarning)\n",
        "from sklearn.model_selection import train_test_split\n",
        "from sklearn.preprocessing import PowerTransformer, MinMaxScaler\n",
        "from sklearn.model_selection import train_test_split\n",
        "from sklearn.ensemble import RandomForestClassifier\n",
        "from sklearn.model_selection import GridSearchCV\n",
        "from sklearn.metrics import confusion_matrix, classification_report\n",
        "from sklearn.pipeline import Pipeline"
      ],
      "execution_count": null,
      "outputs": []
    },
    {
      "cell_type": "code",
      "metadata": {
        "colab": {
          "base_uri": "https://localhost:8080/"
        },
        "id": "3cikah-WtuMw",
        "outputId": "69549ad8-f6ea-432d-f6aa-17982c6a1912"
      },
      "source": [
        "from google.colab import drive\n",
        "drive.mount('/content/drive')"
      ],
      "execution_count": null,
      "outputs": [
        {
          "output_type": "stream",
          "text": [
            "Mounted at /content/drive\n"
          ],
          "name": "stdout"
        }
      ]
    },
    {
      "cell_type": "code",
      "metadata": {
        "id": "Ybmq16v2Qd3a"
      },
      "source": [
        "# connect the drive\n",
        "df = pd.read_excel('/content/drive/MyDrive/MMAI/Finance/Bankruptcy_data_Final.xlsx')\n",
        "#df = pd.read_csv('Bankruptcy_data_final.csv')"
      ],
      "execution_count": null,
      "outputs": []
    },
    {
      "cell_type": "code",
      "metadata": {
        "colab": {
          "base_uri": "https://localhost:8080/",
          "height": 202
        },
        "id": "KVGH06WAReSO",
        "outputId": "99470a51-eced-4a4d-8768-3256eaf73252"
      },
      "source": [
        "# look at shape\n",
        "print(df.shape)\n",
        "df.head(3)"
      ],
      "execution_count": null,
      "outputs": [
        {
          "output_type": "stream",
          "text": [
            "(92872, 13)\n"
          ],
          "name": "stdout"
        },
        {
          "output_type": "execute_result",
          "data": {
            "text/html": [
              "<div>\n",
              "<style scoped>\n",
              "    .dataframe tbody tr th:only-of-type {\n",
              "        vertical-align: middle;\n",
              "    }\n",
              "\n",
              "    .dataframe tbody tr th {\n",
              "        vertical-align: top;\n",
              "    }\n",
              "\n",
              "    .dataframe thead th {\n",
              "        text-align: right;\n",
              "    }\n",
              "</style>\n",
              "<table border=\"1\" class=\"dataframe\">\n",
              "  <thead>\n",
              "    <tr style=\"text-align: right;\">\n",
              "      <th></th>\n",
              "      <th>EPS</th>\n",
              "      <th>Liquidity</th>\n",
              "      <th>Profitability</th>\n",
              "      <th>Productivity</th>\n",
              "      <th>Leverage Ratio</th>\n",
              "      <th>Asset Turnover</th>\n",
              "      <th>Operational Margin</th>\n",
              "      <th>Return on Equity</th>\n",
              "      <th>Market Book Ratio</th>\n",
              "      <th>Assets Growth</th>\n",
              "      <th>Sales Growth</th>\n",
              "      <th>Employee Growth</th>\n",
              "      <th>BK</th>\n",
              "    </tr>\n",
              "  </thead>\n",
              "  <tbody>\n",
              "    <tr>\n",
              "      <th>0</th>\n",
              "      <td>1.58</td>\n",
              "      <td>0.36</td>\n",
              "      <td>0.18</td>\n",
              "      <td>0.13</td>\n",
              "      <td>1.33</td>\n",
              "      <td>1.77</td>\n",
              "      <td>0.07</td>\n",
              "      <td>0.15</td>\n",
              "      <td>2.22</td>\n",
              "      <td>NaN</td>\n",
              "      <td>NaN</td>\n",
              "      <td>NaN</td>\n",
              "      <td>0</td>\n",
              "    </tr>\n",
              "    <tr>\n",
              "      <th>1</th>\n",
              "      <td>1.41</td>\n",
              "      <td>0.36</td>\n",
              "      <td>0.19</td>\n",
              "      <td>0.12</td>\n",
              "      <td>1.31</td>\n",
              "      <td>1.59</td>\n",
              "      <td>0.07</td>\n",
              "      <td>0.13</td>\n",
              "      <td>2.41</td>\n",
              "      <td>0.126319</td>\n",
              "      <td>0.014278</td>\n",
              "      <td>0.040179</td>\n",
              "      <td>0</td>\n",
              "    </tr>\n",
              "    <tr>\n",
              "      <th>2</th>\n",
              "      <td>0.31</td>\n",
              "      <td>0.32</td>\n",
              "      <td>0.13</td>\n",
              "      <td>0.08</td>\n",
              "      <td>1.03</td>\n",
              "      <td>1.55</td>\n",
              "      <td>0.05</td>\n",
              "      <td>0.04</td>\n",
              "      <td>2.56</td>\n",
              "      <td>0.368077</td>\n",
              "      <td>0.327909</td>\n",
              "      <td>0.566524</td>\n",
              "      <td>0</td>\n",
              "    </tr>\n",
              "  </tbody>\n",
              "</table>\n",
              "</div>"
            ],
            "text/plain": [
              "    EPS  Liquidity  Profitability  ...  Sales Growth  Employee Growth  BK\n",
              "0  1.58       0.36           0.18  ...           NaN              NaN   0\n",
              "1  1.41       0.36           0.19  ...      0.014278         0.040179   0\n",
              "2  0.31       0.32           0.13  ...      0.327909         0.566524   0\n",
              "\n",
              "[3 rows x 13 columns]"
            ]
          },
          "metadata": {
            "tags": []
          },
          "execution_count": 5
        }
      ]
    },
    {
      "cell_type": "code",
      "metadata": {
        "colab": {
          "base_uri": "https://localhost:8080/"
        },
        "id": "3yKM2EguruDm",
        "outputId": "340d1c86-548c-4b17-acde-520905157072"
      },
      "source": [
        "print('Full dataset target distribution...')\n",
        "print('1:', df['BK'][df['BK']==1].count(),',',df['BK'][df['BK']==1].count()/df['BK'].count() )\n",
        "print('0:', df['BK'][df['BK']==0].count(),',',df['BK'][df['BK']==0].count()/df['BK'].count() )"
      ],
      "execution_count": null,
      "outputs": [
        {
          "output_type": "stream",
          "text": [
            "Full dataset target distribution...\n",
            "1: 558 , 0.00600826944611939\n",
            "0: 92314 , 0.9939917305538806\n"
          ],
          "name": "stdout"
        }
      ]
    },
    {
      "cell_type": "code",
      "metadata": {
        "colab": {
          "base_uri": "https://localhost:8080/"
        },
        "id": "HEvwL0hcRrzy",
        "outputId": "3b78d849-f956-471f-80ac-5a45942727c6"
      },
      "source": [
        "# check out the columns\n",
        "print('Understanding columns...')\n",
        "for col in df.columns:\n",
        "  print(col,':')\n",
        "  print('Total nulls:',df[col].isnull().values.sum())\n",
        "  print('Min:',df[col].min())\n",
        "  print('Max:',df[col].max())\n",
        "  if df[col].isnull().values.sum() == 0:\n",
        "    print('All good for', col)\n",
        "  elif df[col].isnull().values.sum() <= 300:\n",
        "    print('Drop the nulls for', col,'\\n')\n",
        "  else:\n",
        "    print('Use imputation for', col,'\\n')"
      ],
      "execution_count": null,
      "outputs": [
        {
          "output_type": "stream",
          "text": [
            "Understanding columns...\n",
            "EPS :\n",
            "Total nulls: 5\n",
            "Min: -384000.0\n",
            "Max: 55339.0\n",
            "Drop the nulls for EPS \n",
            "\n",
            "Liquidity :\n",
            "Total nulls: 247\n",
            "Min: -25968.52\n",
            "Max: 1.0\n",
            "Drop the nulls for Liquidity \n",
            "\n",
            "Profitability :\n",
            "Total nulls: 247\n",
            "Min: -79682.0\n",
            "Max: 140.58\n",
            "Drop the nulls for Profitability \n",
            "\n",
            "Productivity :\n",
            "Total nulls: 247\n",
            "Min: -5093.0\n",
            "Max: 1102.0\n",
            "Drop the nulls for Productivity \n",
            "\n",
            "Leverage Ratio :\n",
            "Total nulls: 26\n",
            "Min: -7811.0\n",
            "Max: 75970.38\n",
            "Drop the nulls for Leverage Ratio \n",
            "\n",
            "Asset Turnover :\n",
            "Total nulls: 247\n",
            "Min: -31.59\n",
            "Max: 276.38\n",
            "Drop the nulls for Asset Turnover \n",
            "\n",
            "Operational Margin :\n",
            "Total nulls: 5557\n",
            "Min: -30175.7\n",
            "Max: 394.47\n",
            "Use imputation for Operational Margin \n",
            "\n",
            "Return on Equity :\n",
            "Total nulls: 8\n",
            "Min: -88875.14\n",
            "Max: 39500.0\n",
            "Drop the nulls for Return on Equity \n",
            "\n",
            "Market Book Ratio :\n",
            "Total nulls: 57\n",
            "Min: -3151500.0\n",
            "Max: 3455419.33\n",
            "Drop the nulls for Market Book Ratio \n",
            "\n",
            "Assets Growth :\n",
            "Total nulls: 6701\n",
            "Min: -1.0\n",
            "Max: 14231.0\n",
            "Use imputation for Assets Growth \n",
            "\n",
            "Sales Growth :\n",
            "Total nulls: 6701\n",
            "Min: -27.43103448275862\n",
            "Max: 39850.0\n",
            "Use imputation for Sales Growth \n",
            "\n",
            "Employee Growth :\n",
            "Total nulls: 7010\n",
            "Min: -1.0\n",
            "Max: 2699.0\n",
            "Use imputation for Employee Growth \n",
            "\n",
            "BK :\n",
            "Total nulls: 0\n",
            "Min: 0\n",
            "Max: 1\n",
            "All good for BK\n"
          ],
          "name": "stdout"
        }
      ]
    },
    {
      "cell_type": "code",
      "metadata": {
        "colab": {
          "base_uri": "https://localhost:8080/"
        },
        "id": "ZHtIKiIWeMOb",
        "outputId": "1c374e1a-e9c1-4d78-eb69-4f692cdb6d6c"
      },
      "source": [
        "# drop nulls where less than 300 \n",
        "print('All:',df.shape)\n",
        "df = df.dropna(subset=['Return on Equity','Leverage Ratio','EPS','Liquidity',\n",
        "                       'Profitability','Leverage Ratio','Asset Turnover'])\n",
        "print('Nulls dropped where very few:',df.shape)\n",
        "\n",
        "# Remove outliers \n",
        "df_a = df[(df['Employee Growth']<=1000) | (df['Employee Growth'].isnull())] \n",
        "df_a = df_a[(df_a['Sales Growth']<=1000) | (df_a['Sales Growth'].isnull())] \n",
        "df_a = df_a[(df_a['Sales Growth']>=-10) | (df_a['Sales Growth'].isnull())] \n",
        "df_a = df_a[(df_a['Assets Growth']<=4000) | (df_a['Assets Growth'].isnull())] \n",
        "df_a = df_a[(df_a['Return on Equity']<=10000) | (df_a['Return on Equity'].isnull())] \n",
        "df_a = df_a[(df_a['Return on Equity']>=-25000) | (df_a['Return on Equity'].isnull())] \n",
        "df_a = df_a[(df_a['Operational Margin']<=11) | (df_a['Operational Margin'].isnull())] \n",
        "df_a = df_a[(df_a['Asset Turnover']>=-2) | (df_a['Asset Turnover'].isnull())]  \n",
        "df_a = df_a[(df_a['Leverage Ratio']<=3500) | (df_a['Leverage Ratio'].isnull())]\n",
        "df_a = df_a[(df_a['Leverage Ratio']>=-3500) | (df_a['Leverage Ratio'].isnull())]\n",
        "df_a = df_a[(df_a['Productivity']<=50) |  (df_a['Productivity'].isnull())]\n",
        "df_a = df_a[(df_a['Profitability']<=6) |  (df_a['Profitability'].isnull())]  \n",
        "df_a = df_a[(df_a['Liquidity']>=-15000)  |  (df_a['Liquidity'].isnull())]  \n",
        "print('Outliers dropped, none were target or null = 1:',df_a.shape)\n",
        "print('Remaining target:',df_a['BK'].sum())"
      ],
      "execution_count": null,
      "outputs": [
        {
          "output_type": "stream",
          "text": [
            "All: (92607, 13)\n",
            "Nulls dropped where very few: (92607, 13)\n",
            "Outliers dropped, none were target or null = 1: (92568, 13)\n",
            "Remaining target: 554\n"
          ],
          "name": "stdout"
        }
      ]
    },
    {
      "cell_type": "markdown",
      "metadata": {
        "id": "1Xir2PzHtA-n"
      },
      "source": [
        "# Split Train/Test"
      ]
    },
    {
      "cell_type": "code",
      "metadata": {
        "colab": {
          "base_uri": "https://localhost:8080/"
        },
        "id": "OstCRMoUqfVZ",
        "outputId": "ca2fa606-b311-4f69-fc87-5058bfb2eada"
      },
      "source": [
        "# split training data\n",
        "y = df_a['BK']\n",
        "X = df_a.drop(columns=['BK'])\n",
        "\n",
        "X_train, X_test, y_train, y_test = train_test_split(X,y,test_size=0.15,\n",
        "                                                    random_state=42)\n",
        "print('Training:',X_train.shape)\n",
        "print('Testing:',X_test.shape)"
      ],
      "execution_count": null,
      "outputs": [
        {
          "output_type": "stream",
          "text": [
            "Training: (78682, 12)\n",
            "Testing: (13886, 12)\n"
          ],
          "name": "stdout"
        }
      ]
    },
    {
      "cell_type": "markdown",
      "metadata": {
        "id": "0KMFF3VitA-n"
      },
      "source": [
        "# Scale/Fill Missing Values/Sampling"
      ]
    },
    {
      "cell_type": "markdown",
      "metadata": {
        "id": "7B-8B-OAtA-o"
      },
      "source": [
        "# Scale"
      ]
    },
    {
      "cell_type": "code",
      "metadata": {
        "id": "mHZ2k3FXtA-o"
      },
      "source": [
        "#mm_scaler = MinMaxScaler()\n",
        "scaler = PowerTransformer(method='yeo-johnson')\n",
        "X_train_scaled = pd.DataFrame(scaler.fit_transform(X_train),columns=X_train.columns)"
      ],
      "execution_count": null,
      "outputs": []
    },
    {
      "cell_type": "markdown",
      "metadata": {
        "id": "pGVSGtgXtA-o"
      },
      "source": [
        "# Fill Missing Values"
      ]
    },
    {
      "cell_type": "code",
      "metadata": {
        "id": "umOkhZTDtA-o"
      },
      "source": [
        "from sklearn.experimental import enable_iterative_imputer  \n",
        "from sklearn.impute import IterativeImputer\n",
        "imp = IterativeImputer(max_iter=10,random_state=42)\n",
        "imp.fit(X_train_scaled)\n",
        "X_train_imp = pd.DataFrame(imp.transform(X_train_scaled),columns=X_train.columns)"
      ],
      "execution_count": null,
      "outputs": []
    },
    {
      "cell_type": "code",
      "metadata": {
        "colab": {
          "base_uri": "https://localhost:8080/",
          "height": 186
        },
        "id": "TBdQjNiBdQ4_",
        "outputId": "1eeaf365-faef-4a5b-a32c-a51ea87303b0"
      },
      "source": [
        "# look at the imputed version\n",
        "X_train_imp.head(3)"
      ],
      "execution_count": null,
      "outputs": [
        {
          "output_type": "execute_result",
          "data": {
            "text/html": [
              "<div>\n",
              "<style scoped>\n",
              "    .dataframe tbody tr th:only-of-type {\n",
              "        vertical-align: middle;\n",
              "    }\n",
              "\n",
              "    .dataframe tbody tr th {\n",
              "        vertical-align: top;\n",
              "    }\n",
              "\n",
              "    .dataframe thead th {\n",
              "        text-align: right;\n",
              "    }\n",
              "</style>\n",
              "<table border=\"1\" class=\"dataframe\">\n",
              "  <thead>\n",
              "    <tr style=\"text-align: right;\">\n",
              "      <th></th>\n",
              "      <th>EPS</th>\n",
              "      <th>Liquidity</th>\n",
              "      <th>Profitability</th>\n",
              "      <th>Productivity</th>\n",
              "      <th>Leverage Ratio</th>\n",
              "      <th>Asset Turnover</th>\n",
              "      <th>Operational Margin</th>\n",
              "      <th>Return on Equity</th>\n",
              "      <th>Market Book Ratio</th>\n",
              "      <th>Assets Growth</th>\n",
              "      <th>Sales Growth</th>\n",
              "      <th>Employee Growth</th>\n",
              "    </tr>\n",
              "  </thead>\n",
              "  <tbody>\n",
              "    <tr>\n",
              "      <th>0</th>\n",
              "      <td>-0.001569</td>\n",
              "      <td>-0.510463</td>\n",
              "      <td>0.049357</td>\n",
              "      <td>0.022965</td>\n",
              "      <td>0.007204</td>\n",
              "      <td>0.439325</td>\n",
              "      <td>0.038629</td>\n",
              "      <td>-0.009368</td>\n",
              "      <td>-0.017929</td>\n",
              "      <td>-0.248105</td>\n",
              "      <td>-0.391908</td>\n",
              "      <td>-0.664258</td>\n",
              "    </tr>\n",
              "    <tr>\n",
              "      <th>1</th>\n",
              "      <td>-0.000195</td>\n",
              "      <td>0.148403</td>\n",
              "      <td>0.088999</td>\n",
              "      <td>0.157606</td>\n",
              "      <td>-0.004092</td>\n",
              "      <td>0.005036</td>\n",
              "      <td>0.278746</td>\n",
              "      <td>0.006716</td>\n",
              "      <td>0.011993</td>\n",
              "      <td>-0.042717</td>\n",
              "      <td>0.063784</td>\n",
              "      <td>0.103333</td>\n",
              "    </tr>\n",
              "    <tr>\n",
              "      <th>2</th>\n",
              "      <td>-0.001431</td>\n",
              "      <td>0.747505</td>\n",
              "      <td>-1.786394</td>\n",
              "      <td>-0.519446</td>\n",
              "      <td>0.019240</td>\n",
              "      <td>-1.332720</td>\n",
              "      <td>-2.049985</td>\n",
              "      <td>0.002444</td>\n",
              "      <td>0.024358</td>\n",
              "      <td>-2.033878</td>\n",
              "      <td>-0.153317</td>\n",
              "      <td>-0.174993</td>\n",
              "    </tr>\n",
              "  </tbody>\n",
              "</table>\n",
              "</div>"
            ],
            "text/plain": [
              "        EPS  Liquidity  ...  Sales Growth  Employee Growth\n",
              "0 -0.001569  -0.510463  ...     -0.391908        -0.664258\n",
              "1 -0.000195   0.148403  ...      0.063784         0.103333\n",
              "2 -0.001431   0.747505  ...     -0.153317        -0.174993\n",
              "\n",
              "[3 rows x 12 columns]"
            ]
          },
          "metadata": {
            "tags": []
          },
          "execution_count": 134
        }
      ]
    },
    {
      "cell_type": "code",
      "metadata": {
        "colab": {
          "base_uri": "https://localhost:8080/"
        },
        "id": "ic6dzSGJrahi",
        "outputId": "1f52a937-b1a2-4ef6-ef03-5669676ca66b"
      },
      "source": [
        "# see shapes\n",
        "counter = Counter(y_train)\n",
        "print('Training distribution:',counter)\n",
        "print('1:', y_train[y_train==1].count()/y_train.count() )\n",
        "print('0:', y_train[y_train==0].count()/y_train.count() )\n",
        "\n",
        "ycounter = Counter(y_test)\n",
        "print('Testing distribution:',ycounter)\n",
        "print('1:', y_test[y_test==1].count()/y_test.count() )\n",
        "print('0:', y_test[y_test==0].count()/y_test.count() )"
      ],
      "execution_count": null,
      "outputs": [
        {
          "output_type": "stream",
          "text": [
            "Training distribution: Counter({0: 78197, 1: 485})\n",
            "1: 0.006164052769375461\n",
            "0: 0.9938359472306245\n",
            "Testing distribution: Counter({0: 13817, 1: 69})\n",
            "1: 0.004969033558980268\n",
            "0: 0.9950309664410197\n"
          ],
          "name": "stdout"
        }
      ]
    },
    {
      "cell_type": "code",
      "metadata": {
        "id": "B5WCcuBliuHN"
      },
      "source": [
        "# New features\n",
        "def pos(x):\n",
        "  if x > 0:\n",
        "    y = 1\n",
        "  else: \n",
        "    y = 0\n",
        "  return y\n",
        "\n",
        "def beyond_one(x):\n",
        "  if x >= 1:\n",
        "    y = 1\n",
        "  else: \n",
        "    y = 0\n",
        "  return y\n",
        "\n",
        "#X_train_imp['Pos_Liquidity'] = X_train_imp['Liquidity'].apply(pos)\n",
        "#X_train_imp['Pos_Profitability'] = X_train_imp['Profitability'].apply(pos)\n",
        "#X_train_imp['High_Leverage'] = X_train_imp['Leverage Ratio'].apply(beyond_one)\n"
      ],
      "execution_count": null,
      "outputs": []
    },
    {
      "cell_type": "markdown",
      "metadata": {
        "id": "POrJlMHktA-p"
      },
      "source": [
        "# Oversampling"
      ]
    },
    {
      "cell_type": "code",
      "metadata": {
        "colab": {
          "base_uri": "https://localhost:8080/"
        },
        "id": "kV51QwrAfu55",
        "outputId": "ace30b80-f688-4ff7-8293-236845edbfe0"
      },
      "source": [
        "# transform the training dataset with smote /and under sampling\n",
        "oversample = SMOTE(sampling_strategy=0.05) #.1\n",
        "X_smote, y_smote = oversample.fit_resample(X_train_imp, y_train)\n",
        "counter = Counter(y_smote)\n",
        "print('New distribution:',counter)\n",
        "undersample = RandomUnderSampler(sampling_strategy=0.07) #.7\n",
        "X_smote_under, y_smote_under = undersample.fit_resample(X_smote, y_smote)\n",
        "counter = Counter(y_smote_under)\n",
        "print('New distribution:',counter)"
      ],
      "execution_count": null,
      "outputs": [
        {
          "output_type": "stream",
          "text": [
            "New distribution: Counter({0: 78197, 1: 3909})\n",
            "New distribution: Counter({0: 55842, 1: 3909})\n"
          ],
          "name": "stdout"
        }
      ]
    },
    {
      "cell_type": "markdown",
      "metadata": {
        "id": "F1zbXY8Jg6IB"
      },
      "source": [
        "## Modeling"
      ]
    },
    {
      "cell_type": "code",
      "metadata": {
        "colab": {
          "base_uri": "https://localhost:8080/"
        },
        "id": "hwlcxBkgmi4N",
        "outputId": "98ba0981-ef9c-4df6-8d1e-e5e77c507448"
      },
      "source": [
        "# base model\n",
        "Pipe= Pipeline([('rf', RandomForestClassifier())])\n",
        "param_grid = {'rf__criterion': ['entropy']}\n",
        "model = GridSearchCV(Pipe,param_grid,cv=5,scoring='roc_auc',n_jobs=-1)\n",
        "model.fit(X_smote_under,y_smote_under) \n",
        "print('\\n\\nBest Score:', model.best_score_,'\\n')\n",
        "print('Best parameters:', model.best_params_)"
      ],
      "execution_count": null,
      "outputs": [
        {
          "output_type": "stream",
          "text": [
            "\n",
            "\n",
            "Best Score: 0.9935219894398202 \n",
            "\n",
            "Best parameters: {'rf__criterion': 'entropy'}\n"
          ],
          "name": "stdout"
        }
      ]
    },
    {
      "cell_type": "code",
      "metadata": {
        "colab": {
          "base_uri": "https://localhost:8080/"
        },
        "id": "5oa5Y23Rtjk9",
        "outputId": "8f7b1145-3ba3-4924-9bb1-d5e55df1e03f"
      },
      "source": [
        "from sklearn.metrics import roc_auc_score\n",
        "\n",
        "#impute with iterative imputer and add features\n",
        "X_test_scaled = scaler.transform(X_test)\n",
        "X_test_imp = imp.transform(X_test_scaled)\n",
        "X_test_imp  = pd.DataFrame(X_test_imp , columns = X_test.columns )\n",
        "#add features\n",
        "#X_test_imp['Pos_Liquidity'] = X_test_imp['Liquidity'].apply(pos)\n",
        "#X_test_imp['Pos_Profitability'] = X_test_imp['Profitability'].apply(pos)\n",
        "#X_test_imp['High_Leverage'] = X_test_imp['Leverage Ratio'].apply(beyond_one)\n",
        "\n",
        "#predict\n",
        "pred = model.predict_proba(X_test_imp)[:,1]\n",
        "threshold = 0.1\n",
        "print('Confusion matrix:\\n',confusion_matrix(y_test, pred>threshold))\n",
        "print('\\nClassification report:\\n',classification_report(y_test, pred>threshold))\n",
        "print (f'AUC Score: {roc_auc_score(y_test,pred>threshold)}')"
      ],
      "execution_count": null,
      "outputs": [
        {
          "output_type": "stream",
          "text": [
            "Confusion matrix:\n",
            " [[12847   970]\n",
            " [   17    52]]\n",
            "\n",
            "Classification report:\n",
            "               precision    recall  f1-score   support\n",
            "\n",
            "           0       1.00      0.93      0.96     13817\n",
            "           1       0.05      0.75      0.10        69\n",
            "\n",
            "    accuracy                           0.93     13886\n",
            "   macro avg       0.52      0.84      0.53     13886\n",
            "weighted avg       0.99      0.93      0.96     13886\n",
            "\n",
            "AUC Score: 0.8417099078744626\n"
          ],
          "name": "stdout"
        }
      ]
    },
    {
      "cell_type": "markdown",
      "metadata": {
        "id": "D_3BeVW5Wwi4"
      },
      "source": [
        "Tuned RF"
      ]
    },
    {
      "cell_type": "code",
      "metadata": {
        "colab": {
          "base_uri": "https://localhost:8080/"
        },
        "id": "ouMRkLP8Xf0g",
        "outputId": "60a5fb98-d336-47b0-d674-f865b590f715"
      },
      "source": [
        "Pipe= Pipeline([('rf', RandomForestClassifier())])\n",
        "param_grid = {'rf__criterion': ['entropy'],#,'gini'],\n",
        "              #'rf__n_estimators': (40,100),\n",
        "              'rf__min_samples_leaf': (3,6,None),\n",
        "              'rf__max_depth': (5,8,None),\n",
        "              'rf__class_weight': ['balanced','balanced_subsample'],\n",
        "              'rf__max_features':['auto', 'sqrt', 'log2']\n",
        "              }\n",
        "model = GridSearchCV(Pipe,param_grid,cv=5,scoring='roc_auc',n_jobs=-1)\n",
        "model.fit(X_smote_under,y_smote_under) \n",
        "print('\\n\\nBest Score:', model.best_score_,'\\n')\n",
        "print('Best parameters:', model.best_params_)"
      ],
      "execution_count": null,
      "outputs": [
        {
          "output_type": "stream",
          "text": [
            "\n",
            "\n",
            "Best Score: 0.9924543718559418 \n",
            "\n",
            "Best parameters: {'rf__class_weight': 'balanced', 'rf__criterion': 'entropy', 'rf__max_depth': None, 'rf__max_features': 'sqrt', 'rf__min_samples_leaf': 3}\n"
          ],
          "name": "stdout"
        }
      ]
    },
    {
      "cell_type": "code",
      "metadata": {
        "colab": {
          "base_uri": "https://localhost:8080/"
        },
        "id": "wZb7JZqaXhRB",
        "outputId": "d6c5fa83-a20e-4fc8-b2f2-d60433f686ae"
      },
      "source": [
        "from sklearn.metrics import roc_auc_score\n",
        "X_test_scaled = scaler.transform(X_test)\n",
        "X_test_imp = imp.transform(X_test_scaled)\n",
        "X_test_imp  = pd.DataFrame(X_test_imp , columns = X_test.columns )\n",
        "pred = model.predict_proba(X_test_imp)[:,1]\n",
        "threshold = 0.1\n",
        "print('Confusion matrix:\\n',confusion_matrix(y_test, pred>threshold))\n",
        "print('\\nClassification report:\\n',classification_report(y_test, pred>threshold))\n",
        "print (f'AUC Score: {roc_auc_score(y_test,pred>threshold)}')"
      ],
      "execution_count": null,
      "outputs": [
        {
          "output_type": "stream",
          "text": [
            "Confusion matrix:\n",
            " [[12467  1350]\n",
            " [   15    54]]\n",
            "\n",
            "Classification report:\n",
            "               precision    recall  f1-score   support\n",
            "\n",
            "           0       1.00      0.90      0.95     13817\n",
            "           1       0.04      0.78      0.07        69\n",
            "\n",
            "    accuracy                           0.90     13886\n",
            "   macro avg       0.52      0.84      0.51     13886\n",
            "weighted avg       0.99      0.90      0.94     13886\n",
            "\n",
            "AUC Score: 0.8424514854102224\n"
          ],
          "name": "stdout"
        }
      ]
    },
    {
      "cell_type": "markdown",
      "metadata": {
        "id": "YzSpF4TyWLwB"
      },
      "source": [
        "Tuned Naive Bayes"
      ]
    },
    {
      "cell_type": "code",
      "metadata": {
        "colab": {
          "base_uri": "https://localhost:8080/"
        },
        "id": "x0SNtfcMWJM4",
        "outputId": "7c2399a9-052b-4bbb-d132-fe7c13d2d80e"
      },
      "source": [
        "from sklearn.naive_bayes import GaussianNB\n",
        "# base model\n",
        "nb = GaussianNB()\n",
        "Pipe= Pipeline([('nb', nb)])\n",
        "param_grid = {'nb__var_smoothing': (0.000000001,.00000000001,.0000000001),\n",
        "              }\n",
        "model = GridSearchCV(Pipe,param_grid,cv=5,scoring='roc_auc',n_jobs=-1)\n",
        "model.fit(X_smote_under,y_smote_under) \n",
        "print('\\n\\nBest Score:', model.best_score_,'\\n')\n",
        "print('Best parameters:', model.best_params_)"
      ],
      "execution_count": null,
      "outputs": [
        {
          "output_type": "stream",
          "text": [
            "\n",
            "\n",
            "Best Score: 0.8409268153507246 \n",
            "\n",
            "Best parameters: {'nb__var_smoothing': 1e-11}\n"
          ],
          "name": "stdout"
        }
      ]
    },
    {
      "cell_type": "code",
      "metadata": {
        "colab": {
          "base_uri": "https://localhost:8080/"
        },
        "id": "O3Hm96SNV_lA",
        "outputId": "b0b483ac-e344-43c7-d7a5-ca9a7200654a"
      },
      "source": [
        "X_test_scaled = scaler.transform(X_test)\n",
        "X_test_imp = imp.transform(X_test_scaled)\n",
        "X_test_imp  = pd.DataFrame(X_test_imp , columns = X_test.columns )\n",
        "pred = model.predict_proba(X_test_imp)[:,1]\n",
        "threshold = 0.1\n",
        "print('Confusion matrix:\\n',confusion_matrix(y_test, pred>threshold))\n",
        "print('\\nClassification report:\\n',classification_report(y_test, pred>threshold))\n",
        "print (f'AUC Score: {roc_auc_score(y_test,pred>threshold)}')"
      ],
      "execution_count": null,
      "outputs": [
        {
          "output_type": "stream",
          "text": [
            "Confusion matrix:\n",
            " [[ 2909 10908]\n",
            " [    5    64]]\n",
            "\n",
            "Classification report:\n",
            "               precision    recall  f1-score   support\n",
            "\n",
            "           0       1.00      0.21      0.35     13817\n",
            "           1       0.01      0.93      0.01        69\n",
            "\n",
            "    accuracy                           0.21     13886\n",
            "   macro avg       0.50      0.57      0.18     13886\n",
            "weighted avg       0.99      0.21      0.35     13886\n",
            "\n",
            "AUC Score: 0.5690369876218437\n"
          ],
          "name": "stdout"
        }
      ]
    },
    {
      "cell_type": "markdown",
      "metadata": {
        "id": "CxhzUgTRjMor"
      },
      "source": [
        "Logistic Regression"
      ]
    },
    {
      "cell_type": "code",
      "metadata": {
        "colab": {
          "base_uri": "https://localhost:8080/"
        },
        "id": "bFmpjF1UtA-s",
        "outputId": "6092231c-a8e6-4f41-ab56-8152931bce52"
      },
      "source": [
        "#more to tune -> could be better to use for explanation\n",
        "from sklearn.linear_model import LogisticRegression\n",
        "# base model\n",
        "lr = LogisticRegression()\n",
        "Pipe= Pipeline([('lr', lr)]) #no tuning\n",
        "param_grid = {'lr__penalty': ['l2'],\n",
        "              }\n",
        "model = GridSearchCV(Pipe,param_grid,cv=5,scoring='roc_auc',n_jobs=-1)\n",
        "model.fit(X_smote_under,y_smote_under) \n",
        "print('\\n\\nBest Score:', model.best_score_,'\\n')\n",
        "print('Best parameters:', model.best_params_)"
      ],
      "execution_count": null,
      "outputs": [
        {
          "output_type": "stream",
          "text": [
            "\n",
            "\n",
            "Best Score: 0.7930714125367965 \n",
            "\n",
            "Best parameters: {'lr__penalty': 'l2'}\n"
          ],
          "name": "stdout"
        }
      ]
    },
    {
      "cell_type": "code",
      "metadata": {
        "colab": {
          "base_uri": "https://localhost:8080/"
        },
        "id": "7siTEWJUpEDZ",
        "outputId": "72750be1-baad-42e4-fdec-2ae1772094c2"
      },
      "source": [
        "X_test_scaled = scaler.transform(X_test)\n",
        "X_test_imp = imp.transform(X_test_scaled)\n",
        "X_test_imp  = pd.DataFrame(X_test_imp , columns = X_test.columns )\n",
        "pred = model.predict_proba(X_test_imp)[:,1]\n",
        "threshold = 0.1\n",
        "print('Confusion matrix:\\n',confusion_matrix(y_test, pred>threshold))\n",
        "print('\\nClassification report:\\n',classification_report(y_test, pred>threshold))\n",
        "print (f'AUC Score: {roc_auc_score(y_test,pred>threshold)}')"
      ],
      "execution_count": null,
      "outputs": [
        {
          "output_type": "stream",
          "text": [
            "Confusion matrix:\n",
            " [[12324  1493]\n",
            " [   35    34]]\n",
            "\n",
            "Classification report:\n",
            "               precision    recall  f1-score   support\n",
            "\n",
            "           0       1.00      0.89      0.94     13817\n",
            "           1       0.02      0.49      0.04        69\n",
            "\n",
            "    accuracy                           0.89     13886\n",
            "   macro avg       0.51      0.69      0.49     13886\n",
            "weighted avg       0.99      0.89      0.94     13886\n",
            "\n",
            "AUC Score: 0.692349164492806\n"
          ],
          "name": "stdout"
        }
      ]
    },
    {
      "cell_type": "markdown",
      "metadata": {
        "id": "lvRMaHUfptjU"
      },
      "source": [
        "KNN"
      ]
    },
    {
      "cell_type": "code",
      "metadata": {
        "colab": {
          "background_save": true
        },
        "id": "KY9E8jtupr-m",
        "outputId": "23ac8c67-0d41-4659-ce17-a91f4b9e84d1"
      },
      "source": [
        "from sklearn.neighbors import KNeighborsClassifier\n",
        "from sklearn.feature_selection import SelectKBest\n",
        "\n",
        "KNN = KNeighborsClassifier()\n",
        "skb = SelectKBest()\n",
        "Pipe= Pipeline([#('skb',skb),\n",
        "                   ('KNN',KNN)\n",
        "                   ])\n",
        "param_grid = {#'skb__k':(5,7,9,11,13),     \n",
        "              'KNN__weights': ('uniform','distance'),\n",
        "              #'KNN__algorithm': ('auto', 'ball_tree', 'kd_tree', 'brute'),\n",
        "              'KNN__metric': ('euclidean','manhattan','chebyshev','minkowski')\n",
        "              }\n",
        "model = GridSearchCV(Pipe,param_grid,cv=5,scoring='roc_auc',n_jobs=-1)\n",
        "model.fit(X_smote_under,y_smote_under) \n",
        "print('\\n\\nBest Score:', model.best_score_,'\\n')\n",
        "print('Best parameters:', model.best_params_)"
      ],
      "execution_count": null,
      "outputs": [
        {
          "output_type": "stream",
          "text": [
            "\n",
            "\n",
            "Best Score: 0.9892021679248801 \n",
            "\n",
            "Best parameters: {'KNN__metric': 'manhattan', 'KNN__weights': 'distance'}\n"
          ],
          "name": "stdout"
        }
      ]
    },
    {
      "cell_type": "code",
      "metadata": {
        "colab": {
          "background_save": true
        },
        "id": "oObRmvXHr1Tg",
        "outputId": "9ce2ebc9-48c6-47c3-cbfe-c36b255912bf"
      },
      "source": [
        "X_test_scaled = scaler.transform(X_test)\n",
        "X_test_imp = imp.transform(X_test_scaled)\n",
        "X_test_imp  = pd.DataFrame(X_test_imp , columns = X_test.columns )\n",
        "pred = model.predict_proba(X_test_imp)[:,1]\n",
        "threshold = 0.1\n",
        "print('Confusion matrix:\\n',confusion_matrix(y_test, pred>threshold))\n",
        "print('\\nClassification report:\\n',classification_report(y_test, pred>threshold))\n",
        "print (f'AUC Score: {roc_auc_score(y_test,pred>threshold)}')"
      ],
      "execution_count": null,
      "outputs": [
        {
          "output_type": "stream",
          "text": [
            "Confusion matrix:\n",
            " [[12917   900]\n",
            " [   36    33]]\n",
            "\n",
            "Classification report:\n",
            "               precision    recall  f1-score   support\n",
            "\n",
            "           0       1.00      0.93      0.97     13817\n",
            "           1       0.04      0.48      0.07        69\n",
            "\n",
            "    accuracy                           0.93     13886\n",
            "   macro avg       0.52      0.71      0.52     13886\n",
            "weighted avg       0.99      0.93      0.96     13886\n",
            "\n",
            "AUC Score: 0.7065618598386989\n"
          ],
          "name": "stdout"
        }
      ]
    }
  ]
}